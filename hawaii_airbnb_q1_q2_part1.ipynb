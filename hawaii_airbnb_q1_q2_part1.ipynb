{
 "cells": [
  {
   "cell_type": "markdown",
   "id": "22a0ad95",
   "metadata": {},
   "source": [
    "# Planning for your big family vacation in Hawaii based on Airbnb data\n",
    "## Part 1 - When and where to go"
   ]
  },
  {
   "cell_type": "markdown",
   "id": "0dee5cf9",
   "metadata": {},
   "source": [
    "In this Part-1 notebook, Hawaii Airbnb data is analyzed to answer two questions regarding a big family vacation (6 adults or more). Airbnb listings data in Hawaii as of 10 June, 2023 (data source: http://insideairbnb.com/get-the-data/) is used.  \n",
    "  \n",
    "Here, \"big family\" is defined as a group of guests that\n",
    "- is equal to or larger than 6\n",
    "- requires entire place\n",
    "- requires three or more bedroooms"
   ]
  },
  {
   "cell_type": "markdown",
   "id": "b6211642",
   "metadata": {},
   "source": [
    "## Table of Contents\n",
    "<ul>\n",
    "<li><a href=\"#Question 1\">Question 1: What is the most popular neighborhood for a big family vacation with Airbnb in Hawaii?</a></li>\n",
    "<li><a href=\"#Question 2\">Question 2: What are the busiest times of the year to visit the top 10 popular neighborhoods? By how much do prices spike?</a></li>\n",
    "</ul>"
   ]
  },
  {
   "cell_type": "markdown",
   "id": "4247871b",
   "metadata": {},
   "source": [
    "<a id='Question 1'></a>\n",
    "# Question 1: What is the most popular neighborhood for a big family vacation with Airbnb in Hawaii?"
   ]
  },
  {
   "cell_type": "markdown",
   "id": "3a919371",
   "metadata": {},
   "source": [
    "In this analysis, the neighborhood that has the most supply of big-family housing is considered as most popular."
   ]
  },
  {
   "cell_type": "code",
   "execution_count": 1,
   "id": "7eaa3e1d",
   "metadata": {},
   "outputs": [],
   "source": [
    "# import modules\n",
    "import numpy as np\n",
    "import pandas as pd\n",
    "import matplotlib.pyplot as plt\n",
    "import seaborn as sns\n",
    "%matplotlib inline"
   ]
  },
  {
   "cell_type": "markdown",
   "id": "20e78d3f",
   "metadata": {},
   "source": [
    "## Data wrangling"
   ]
  },
  {
   "cell_type": "code",
   "execution_count": 2,
   "id": "3c867f42",
   "metadata": {},
   "outputs": [],
   "source": [
    "# load the data set\n",
    "df_listing = pd.read_csv('listings.csv')"
   ]
  },
  {
   "cell_type": "code",
   "execution_count": 3,
   "id": "16733b3f",
   "metadata": {},
   "outputs": [
    {
     "data": {
      "text/html": [
       "<div>\n",
       "<style scoped>\n",
       "    .dataframe tbody tr th:only-of-type {\n",
       "        vertical-align: middle;\n",
       "    }\n",
       "\n",
       "    .dataframe tbody tr th {\n",
       "        vertical-align: top;\n",
       "    }\n",
       "\n",
       "    .dataframe thead th {\n",
       "        text-align: right;\n",
       "    }\n",
       "</style>\n",
       "<table border=\"1\" class=\"dataframe\">\n",
       "  <thead>\n",
       "    <tr style=\"text-align: right;\">\n",
       "      <th></th>\n",
       "      <th>id</th>\n",
       "      <th>listing_url</th>\n",
       "      <th>scrape_id</th>\n",
       "      <th>last_scraped</th>\n",
       "      <th>source</th>\n",
       "      <th>name</th>\n",
       "      <th>description</th>\n",
       "      <th>neighborhood_overview</th>\n",
       "      <th>picture_url</th>\n",
       "      <th>host_id</th>\n",
       "      <th>...</th>\n",
       "      <th>review_scores_communication</th>\n",
       "      <th>review_scores_location</th>\n",
       "      <th>review_scores_value</th>\n",
       "      <th>license</th>\n",
       "      <th>instant_bookable</th>\n",
       "      <th>calculated_host_listings_count</th>\n",
       "      <th>calculated_host_listings_count_entire_homes</th>\n",
       "      <th>calculated_host_listings_count_private_rooms</th>\n",
       "      <th>calculated_host_listings_count_shared_rooms</th>\n",
       "      <th>reviews_per_month</th>\n",
       "    </tr>\n",
       "  </thead>\n",
       "  <tbody>\n",
       "    <tr>\n",
       "      <th>0</th>\n",
       "      <td>81566.0</td>\n",
       "      <td>https://www.airbnb.com/rooms/81566</td>\n",
       "      <td>2.023060e+13</td>\n",
       "      <td>6/11/2023</td>\n",
       "      <td>city scrape</td>\n",
       "      <td>Rental unit in Haleiwa · ★4.67 · 2 bedrooms · ...</td>\n",
       "      <td>2 bedroom/1 bath ocean view &amp; beach access&lt;br ...</td>\n",
       "      <td>There are so many awesome things to do on the ...</td>\n",
       "      <td>https://a0.muscache.com/pictures/555752/35365a...</td>\n",
       "      <td>442490</td>\n",
       "      <td>...</td>\n",
       "      <td>4.75</td>\n",
       "      <td>4.86</td>\n",
       "      <td>4.62</td>\n",
       "      <td>ta-020-657-9712-01</td>\n",
       "      <td>f</td>\n",
       "      <td>1</td>\n",
       "      <td>1</td>\n",
       "      <td>0</td>\n",
       "      <td>0</td>\n",
       "      <td>1.76</td>\n",
       "    </tr>\n",
       "    <tr>\n",
       "      <th>1</th>\n",
       "      <td>81582.0</td>\n",
       "      <td>https://www.airbnb.com/rooms/81582</td>\n",
       "      <td>2.023060e+13</td>\n",
       "      <td>6/11/2023</td>\n",
       "      <td>city scrape</td>\n",
       "      <td>Home in Pāhoa · ★4.94 · 2 bedrooms · 3 beds · ...</td>\n",
       "      <td>Quaint retreat COTTAGE;  entire 2 bedroom 1 ba...</td>\n",
       "      <td>This is a quaint neighborhood nestled in the O...</td>\n",
       "      <td>https://a0.muscache.com/pictures/555927/be245b...</td>\n",
       "      <td>442698</td>\n",
       "      <td>...</td>\n",
       "      <td>4.94</td>\n",
       "      <td>4.94</td>\n",
       "      <td>4.83</td>\n",
       "      <td>STVR-19-355130</td>\n",
       "      <td>f</td>\n",
       "      <td>2</td>\n",
       "      <td>2</td>\n",
       "      <td>0</td>\n",
       "      <td>0</td>\n",
       "      <td>1.27</td>\n",
       "    </tr>\n",
       "    <tr>\n",
       "      <th>2</th>\n",
       "      <td>83221.0</td>\n",
       "      <td>https://www.airbnb.com/rooms/83221</td>\n",
       "      <td>2.023060e+13</td>\n",
       "      <td>6/11/2023</td>\n",
       "      <td>city scrape</td>\n",
       "      <td>Cabin in Pāhoa · ★4.93 · 1 bedroom · 1 bed · 1...</td>\n",
       "      <td>The Enchanting Rainforest Hideaway is a  very ...</td>\n",
       "      <td>NaN</td>\n",
       "      <td>https://a0.muscache.com/pictures/568427/f7ce56...</td>\n",
       "      <td>451536</td>\n",
       "      <td>...</td>\n",
       "      <td>4.96</td>\n",
       "      <td>4.86</td>\n",
       "      <td>4.94</td>\n",
       "      <td>STVR-19-364512</td>\n",
       "      <td>f</td>\n",
       "      <td>1</td>\n",
       "      <td>1</td>\n",
       "      <td>0</td>\n",
       "      <td>0</td>\n",
       "      <td>2.11</td>\n",
       "    </tr>\n",
       "    <tr>\n",
       "      <th>3</th>\n",
       "      <td>5269.0</td>\n",
       "      <td>https://www.airbnb.com/rooms/5269</td>\n",
       "      <td>2.023060e+13</td>\n",
       "      <td>6/11/2023</td>\n",
       "      <td>city scrape</td>\n",
       "      <td>Rental unit in Kamuela · ★4.65 · 1 bedroom · 1...</td>\n",
       "      <td>The 'Auwai Suite is a lovely, self-contained a...</td>\n",
       "      <td>We are located on the \"sunny side\" of Waimea, ...</td>\n",
       "      <td>https://a0.muscache.com/pictures/5b52b72f-5a09...</td>\n",
       "      <td>7620</td>\n",
       "      <td>...</td>\n",
       "      <td>4.88</td>\n",
       "      <td>5.00</td>\n",
       "      <td>4.85</td>\n",
       "      <td>119-269-5808-01R</td>\n",
       "      <td>f</td>\n",
       "      <td>4</td>\n",
       "      <td>4</td>\n",
       "      <td>0</td>\n",
       "      <td>0</td>\n",
       "      <td>0.18</td>\n",
       "    </tr>\n",
       "    <tr>\n",
       "      <th>4</th>\n",
       "      <td>84405.0</td>\n",
       "      <td>https://www.airbnb.com/rooms/84405</td>\n",
       "      <td>2.023060e+13</td>\n",
       "      <td>6/11/2023</td>\n",
       "      <td>city scrape</td>\n",
       "      <td>Townhouse in Lahaina · ★4.50 · 3 bedrooms · 4 ...</td>\n",
       "      <td>Beautiful three-story condo conveniently nestl...</td>\n",
       "      <td>Location&lt;br /&gt;Beach Proximity- short walk acro...</td>\n",
       "      <td>https://a0.muscache.com/pictures/miso/Hosting-...</td>\n",
       "      <td>461037</td>\n",
       "      <td>...</td>\n",
       "      <td>4.50</td>\n",
       "      <td>4.89</td>\n",
       "      <td>4.36</td>\n",
       "      <td>430020680004, TA-176-565-6576-01</td>\n",
       "      <td>f</td>\n",
       "      <td>22</td>\n",
       "      <td>22</td>\n",
       "      <td>0</td>\n",
       "      <td>0</td>\n",
       "      <td>0.27</td>\n",
       "    </tr>\n",
       "  </tbody>\n",
       "</table>\n",
       "<p>5 rows × 75 columns</p>\n",
       "</div>"
      ],
      "text/plain": [
       "        id                         listing_url     scrape_id last_scraped  \\\n",
       "0  81566.0  https://www.airbnb.com/rooms/81566  2.023060e+13    6/11/2023   \n",
       "1  81582.0  https://www.airbnb.com/rooms/81582  2.023060e+13    6/11/2023   \n",
       "2  83221.0  https://www.airbnb.com/rooms/83221  2.023060e+13    6/11/2023   \n",
       "3   5269.0   https://www.airbnb.com/rooms/5269  2.023060e+13    6/11/2023   \n",
       "4  84405.0  https://www.airbnb.com/rooms/84405  2.023060e+13    6/11/2023   \n",
       "\n",
       "        source                                               name  \\\n",
       "0  city scrape  Rental unit in Haleiwa · ★4.67 · 2 bedrooms · ...   \n",
       "1  city scrape  Home in Pāhoa · ★4.94 · 2 bedrooms · 3 beds · ...   \n",
       "2  city scrape  Cabin in Pāhoa · ★4.93 · 1 bedroom · 1 bed · 1...   \n",
       "3  city scrape  Rental unit in Kamuela · ★4.65 · 1 bedroom · 1...   \n",
       "4  city scrape  Townhouse in Lahaina · ★4.50 · 3 bedrooms · 4 ...   \n",
       "\n",
       "                                         description  \\\n",
       "0  2 bedroom/1 bath ocean view & beach access<br ...   \n",
       "1  Quaint retreat COTTAGE;  entire 2 bedroom 1 ba...   \n",
       "2  The Enchanting Rainforest Hideaway is a  very ...   \n",
       "3  The 'Auwai Suite is a lovely, self-contained a...   \n",
       "4  Beautiful three-story condo conveniently nestl...   \n",
       "\n",
       "                               neighborhood_overview  \\\n",
       "0  There are so many awesome things to do on the ...   \n",
       "1  This is a quaint neighborhood nestled in the O...   \n",
       "2                                                NaN   \n",
       "3  We are located on the \"sunny side\" of Waimea, ...   \n",
       "4  Location<br />Beach Proximity- short walk acro...   \n",
       "\n",
       "                                         picture_url  host_id  ...  \\\n",
       "0  https://a0.muscache.com/pictures/555752/35365a...   442490  ...   \n",
       "1  https://a0.muscache.com/pictures/555927/be245b...   442698  ...   \n",
       "2  https://a0.muscache.com/pictures/568427/f7ce56...   451536  ...   \n",
       "3  https://a0.muscache.com/pictures/5b52b72f-5a09...     7620  ...   \n",
       "4  https://a0.muscache.com/pictures/miso/Hosting-...   461037  ...   \n",
       "\n",
       "  review_scores_communication review_scores_location review_scores_value  \\\n",
       "0                        4.75                   4.86                4.62   \n",
       "1                        4.94                   4.94                4.83   \n",
       "2                        4.96                   4.86                4.94   \n",
       "3                        4.88                   5.00                4.85   \n",
       "4                        4.50                   4.89                4.36   \n",
       "\n",
       "                            license instant_bookable  \\\n",
       "0                ta-020-657-9712-01                f   \n",
       "1                    STVR-19-355130                f   \n",
       "2                    STVR-19-364512                f   \n",
       "3                  119-269-5808-01R                f   \n",
       "4  430020680004, TA-176-565-6576-01                f   \n",
       "\n",
       "  calculated_host_listings_count calculated_host_listings_count_entire_homes  \\\n",
       "0                              1                                           1   \n",
       "1                              2                                           2   \n",
       "2                              1                                           1   \n",
       "3                              4                                           4   \n",
       "4                             22                                          22   \n",
       "\n",
       "  calculated_host_listings_count_private_rooms  \\\n",
       "0                                            0   \n",
       "1                                            0   \n",
       "2                                            0   \n",
       "3                                            0   \n",
       "4                                            0   \n",
       "\n",
       "  calculated_host_listings_count_shared_rooms reviews_per_month  \n",
       "0                                           0              1.76  \n",
       "1                                           0              1.27  \n",
       "2                                           0              2.11  \n",
       "3                                           0              0.18  \n",
       "4                                           0              0.27  \n",
       "\n",
       "[5 rows x 75 columns]"
      ]
     },
     "execution_count": 3,
     "metadata": {},
     "output_type": "execute_result"
    }
   ],
   "source": [
    "df_listing.head()"
   ]
  },
  {
   "cell_type": "code",
   "execution_count": 4,
   "id": "99505fc2",
   "metadata": {},
   "outputs": [
    {
     "name": "stdout",
     "output_type": "stream",
     "text": [
      "<class 'pandas.core.frame.DataFrame'>\n",
      "RangeIndex: 32597 entries, 0 to 32596\n",
      "Data columns (total 75 columns):\n",
      " #   Column                                        Non-Null Count  Dtype  \n",
      "---  ------                                        --------------  -----  \n",
      " 0   id                                            32597 non-null  float64\n",
      " 1   listing_url                                   32597 non-null  object \n",
      " 2   scrape_id                                     32597 non-null  float64\n",
      " 3   last_scraped                                  32597 non-null  object \n",
      " 4   source                                        32597 non-null  object \n",
      " 5   name                                          32597 non-null  object \n",
      " 6   description                                   32450 non-null  object \n",
      " 7   neighborhood_overview                         17729 non-null  object \n",
      " 8   picture_url                                   32597 non-null  object \n",
      " 9   host_id                                       32597 non-null  int64  \n",
      " 10  host_url                                      32597 non-null  object \n",
      " 11  host_name                                     32595 non-null  object \n",
      " 12  host_since                                    32595 non-null  object \n",
      " 13  host_location                                 24191 non-null  object \n",
      " 14  host_about                                    22385 non-null  object \n",
      " 15  host_response_time                            29887 non-null  object \n",
      " 16  host_response_rate                            29887 non-null  object \n",
      " 17  host_acceptance_rate                          30604 non-null  object \n",
      " 18  host_is_superhost                             30879 non-null  object \n",
      " 19  host_thumbnail_url                            32595 non-null  object \n",
      " 20  host_picture_url                              32595 non-null  object \n",
      " 21  host_neighbourhood                            26360 non-null  object \n",
      " 22  host_listings_count                           32595 non-null  float64\n",
      " 23  host_total_listings_count                     32595 non-null  float64\n",
      " 24  host_verifications                            32597 non-null  object \n",
      " 25  host_has_profile_pic                          32595 non-null  object \n",
      " 26  host_identity_verified                        32595 non-null  object \n",
      " 27  neighbourhood                                 17729 non-null  object \n",
      " 28  neighbourhood_cleansed                        32597 non-null  object \n",
      " 29  neighbourhood_group_cleansed                  32597 non-null  object \n",
      " 30  latitude                                      32597 non-null  float64\n",
      " 31  longitude                                     32597 non-null  float64\n",
      " 32  property_type                                 32597 non-null  object \n",
      " 33  room_type                                     32597 non-null  object \n",
      " 34  accommodates                                  32597 non-null  int64  \n",
      " 35  bathrooms                                     0 non-null      float64\n",
      " 36  bathrooms_text                                32585 non-null  object \n",
      " 37  bedrooms                                      26986 non-null  float64\n",
      " 38  beds                                          32148 non-null  float64\n",
      " 39  amenities                                     32597 non-null  object \n",
      " 40  price                                         32597 non-null  object \n",
      " 41  minimum_nights                                32597 non-null  int64  \n",
      " 42  maximum_nights                                32597 non-null  int64  \n",
      " 43  minimum_minimum_nights                        32597 non-null  int64  \n",
      " 44  maximum_minimum_nights                        32597 non-null  int64  \n",
      " 45  minimum_maximum_nights                        32597 non-null  int64  \n",
      " 46  maximum_maximum_nights                        32597 non-null  int64  \n",
      " 47  minimum_nights_avg_ntm                        32597 non-null  float64\n",
      " 48  maximum_nights_avg_ntm                        32597 non-null  float64\n",
      " 49  calendar_updated                              0 non-null      float64\n",
      " 50  has_availability                              32597 non-null  object \n",
      " 51  availability_30                               32597 non-null  int64  \n",
      " 52  availability_60                               32597 non-null  int64  \n",
      " 53  availability_90                               32597 non-null  int64  \n",
      " 54  availability_365                              32597 non-null  int64  \n",
      " 55  calendar_last_scraped                         32597 non-null  object \n",
      " 56  number_of_reviews                             32597 non-null  int64  \n",
      " 57  number_of_reviews_ltm                         32597 non-null  int64  \n",
      " 58  number_of_reviews_l30d                        32597 non-null  int64  \n",
      " 59  first_review                                  24919 non-null  object \n",
      " 60  last_review                                   24919 non-null  object \n",
      " 61  review_scores_rating                          24919 non-null  float64\n",
      " 62  review_scores_accuracy                        24867 non-null  float64\n",
      " 63  review_scores_cleanliness                     24867 non-null  float64\n",
      " 64  review_scores_checkin                         24865 non-null  float64\n",
      " 65  review_scores_communication                   24867 non-null  float64\n",
      " 66  review_scores_location                        24865 non-null  float64\n",
      " 67  review_scores_value                           24865 non-null  float64\n",
      " 68  license                                       26241 non-null  object \n",
      " 69  instant_bookable                              32597 non-null  object \n",
      " 70  calculated_host_listings_count                32597 non-null  int64  \n",
      " 71  calculated_host_listings_count_entire_homes   32597 non-null  int64  \n",
      " 72  calculated_host_listings_count_private_rooms  32597 non-null  int64  \n",
      " 73  calculated_host_listings_count_shared_rooms   32597 non-null  int64  \n",
      " 74  reviews_per_month                             24919 non-null  float64\n",
      "dtypes: float64(20), int64(19), object(36)\n",
      "memory usage: 18.7+ MB\n"
     ]
    }
   ],
   "source": [
    "df_listing.info()"
   ]
  },
  {
   "cell_type": "markdown",
   "id": "6be824cb",
   "metadata": {},
   "source": [
    "It is found that 'id' is the same as the last digit in 'listing_url'. To ensure that each listing is separate with no duplicate, these two columns should be checked."
   ]
  },
  {
   "cell_type": "markdown",
   "id": "0e5310b1",
   "metadata": {},
   "source": [
    "### Check 'id' and 'listing_url' columns"
   ]
  },
  {
   "cell_type": "code",
   "execution_count": 5,
   "id": "11201618",
   "metadata": {},
   "outputs": [
    {
     "data": {
      "text/plain": [
       "(30516, 32597)"
      ]
     },
     "execution_count": 5,
     "metadata": {},
     "output_type": "execute_result"
    }
   ],
   "source": [
    "# number of unique components\n",
    "df_listing['id'].nunique(), df_listing['listing_url'].str.split('/').str[-1].nunique()"
   ]
  },
  {
   "cell_type": "code",
   "execution_count": 6,
   "id": "e55e7f8f",
   "metadata": {},
   "outputs": [
    {
     "data": {
      "text/plain": [
       "2081"
      ]
     },
     "execution_count": 6,
     "metadata": {},
     "output_type": "execute_result"
    }
   ],
   "source": [
    "# check the duplicates in 'id' column\n",
    "sum(df_listing['id'].duplicated())"
   ]
  },
  {
   "cell_type": "markdown",
   "id": "db922c0e",
   "metadata": {},
   "source": [
    "The difference of 2081 in the number of unique values was found between 'id' and 'listing_url'. 'listing_id' column will be created by taking the last digit after '/' in 'listing_url' column to consider actual listings without duplicates."
   ]
  },
  {
   "cell_type": "code",
   "execution_count": 7,
   "id": "c748e403",
   "metadata": {},
   "outputs": [],
   "source": [
    "# create 'listing_id' column\n",
    "df_listing_clean = df_listing.copy()\n",
    "df_listing_clean['listing_id'] = df_listing_clean['listing_url'].str.split('/').str[-1]"
   ]
  },
  {
   "cell_type": "markdown",
   "id": "69111bd1",
   "metadata": {},
   "source": [
    "### Select relevant columns to Question 1"
   ]
  },
  {
   "cell_type": "markdown",
   "id": "b1d602dd",
   "metadata": {},
   "source": [
    "The descriptions of each column can be found here (https://docs.google.com/spreadsheets/d/1iWCNJcSutYqpULSQHlNyGInUvHg2BoUGoNRIGa6Szc4/edit#gid=1322284596).  \n",
    "To answer the posed question, only relevant columns will be selected and the dataframe will be cleaned, accordingly."
   ]
  },
  {
   "cell_type": "code",
   "execution_count": 8,
   "id": "d8fd9cbd",
   "metadata": {},
   "outputs": [],
   "source": [
    "# select the relevant columns to the first question\n",
    "selected_cols_q1 = ['listing_id','neighbourhood_cleansed','neighbourhood_group_cleansed','property_type','room_type',\\\n",
    "                    'accommodates','bedrooms','beds']\n",
    "df_listing_clean = df_listing_clean[selected_cols_q1].copy()"
   ]
  },
  {
   "cell_type": "markdown",
   "id": "bee2c33c",
   "metadata": {},
   "source": [
    "- neighbourhood_cleansed: The neighbourhood as geocoded using the latitude and longitude against neighborhoods as defined by open or public digital shapefiles.  \n",
    "- neighbourhood_group_cleansed: The neighbourhood group as geocoded using the latitude and longitude against neighborhoods as defined by open or public digital shapefiles.  \n",
    "- property_type: Self selected property type. Hotels and Bed and Breakfasts are described as such by their hosts in this field  \n",
    "- room_type: [Entire home/apt|Private room|Shared room|Hotel] (https://www.airbnb.com/help/article/5/what-does-the-room-type-of-a-listing-mean)  \n",
    "- accommodates: The maximum capacity of the listing  \n",
    "- bedrooms: The number of bedrooms  \n",
    "- beds: The number of bed(s)"
   ]
  },
  {
   "cell_type": "code",
   "execution_count": 9,
   "id": "9d4ca158",
   "metadata": {},
   "outputs": [
    {
     "name": "stdout",
     "output_type": "stream",
     "text": [
      "<class 'pandas.core.frame.DataFrame'>\n",
      "RangeIndex: 32597 entries, 0 to 32596\n",
      "Data columns (total 8 columns):\n",
      " #   Column                        Non-Null Count  Dtype  \n",
      "---  ------                        --------------  -----  \n",
      " 0   listing_id                    32597 non-null  object \n",
      " 1   neighbourhood_cleansed        32597 non-null  object \n",
      " 2   neighbourhood_group_cleansed  32597 non-null  object \n",
      " 3   property_type                 32597 non-null  object \n",
      " 4   room_type                     32597 non-null  object \n",
      " 5   accommodates                  32597 non-null  int64  \n",
      " 6   bedrooms                      26986 non-null  float64\n",
      " 7   beds                          32148 non-null  float64\n",
      "dtypes: float64(2), int64(1), object(5)\n",
      "memory usage: 2.0+ MB\n"
     ]
    }
   ],
   "source": [
    "df_listing_clean.info()"
   ]
  },
  {
   "cell_type": "markdown",
   "id": "8cb1c86a",
   "metadata": {},
   "source": [
    "Distinct values in each column are shown below."
   ]
  },
  {
   "cell_type": "code",
   "execution_count": 10,
   "id": "8ee42bd1",
   "metadata": {},
   "outputs": [
    {
     "data": {
      "text/plain": [
       "Primary Urban Center     6683\n",
       "Lahaina                  5146\n",
       "Kihei-Makena             4429\n",
       "North Kona               3635\n",
       "North Shore Kauai        2043\n",
       "South Kohala             1566\n",
       "Koloa-Poipu              1519\n",
       "Puna                     1289\n",
       "Kapaa-Wailua              894\n",
       "Ewa                       638\n",
       "Lihue                     612\n",
       "Koolauloa                 564\n",
       "South Hilo                558\n",
       "Koolaupoko                507\n",
       "North Shore Oahu          435\n",
       "South Kona                278\n",
       "Waianae                   274\n",
       "Wailuku-Kahului           239\n",
       "Kau                       238\n",
       "Paia-Haiku                219\n",
       "Molokai                   195\n",
       "East Honolulu             194\n",
       "North Kohala              122\n",
       "Hamakua                    82\n",
       "Hana                       76\n",
       "North Hilo                 49\n",
       "Makawao-Pukalani-Kula      45\n",
       "Central Oahu               39\n",
       "Waimea-Kekaha              21\n",
       "Lanai                       8\n",
       "Name: neighbourhood_cleansed, dtype: int64"
      ]
     },
     "execution_count": 10,
     "metadata": {},
     "output_type": "execute_result"
    }
   ],
   "source": [
    "df_listing_clean.neighbourhood_cleansed.value_counts()"
   ]
  },
  {
   "cell_type": "code",
   "execution_count": 11,
   "id": "fc3d36c1",
   "metadata": {},
   "outputs": [
    {
     "data": {
      "text/plain": [
       "Maui        10357\n",
       "Honolulu     9334\n",
       "Hawaii       7817\n",
       "Kauai        5089\n",
       "Name: neighbourhood_group_cleansed, dtype: int64"
      ]
     },
     "execution_count": 11,
     "metadata": {},
     "output_type": "execute_result"
    }
   ],
   "source": [
    "df_listing_clean.neighbourhood_group_cleansed.value_counts()"
   ]
  },
  {
   "cell_type": "code",
   "execution_count": 12,
   "id": "3bb7c584",
   "metadata": {},
   "outputs": [
    {
     "data": {
      "text/plain": [
       "Entire condo                 15685\n",
       "Entire rental unit            4415\n",
       "Entire home                   3736\n",
       "Entire serviced apartment     1443\n",
       "Private room in resort         854\n",
       "                             ...  \n",
       "Earthen home                     1\n",
       "Ranch                            1\n",
       "Private room in chalet           1\n",
       "Shared room in hut               1\n",
       "Cycladic home                    1\n",
       "Name: property_type, Length: 90, dtype: int64"
      ]
     },
     "execution_count": 12,
     "metadata": {},
     "output_type": "execute_result"
    }
   ],
   "source": [
    "df_listing_clean.property_type.value_counts()"
   ]
  },
  {
   "cell_type": "code",
   "execution_count": 13,
   "id": "213442aa",
   "metadata": {},
   "outputs": [
    {
     "data": {
      "text/plain": [
       "Entire home/apt    29080\n",
       "Private room        3401\n",
       "Hotel room            69\n",
       "Shared room           47\n",
       "Name: room_type, dtype: int64"
      ]
     },
     "execution_count": 13,
     "metadata": {},
     "output_type": "execute_result"
    }
   ],
   "source": [
    "df_listing_clean.room_type.value_counts()"
   ]
  },
  {
   "cell_type": "code",
   "execution_count": 14,
   "id": "c4cd5c1c",
   "metadata": {},
   "outputs": [
    {
     "data": {
      "text/plain": [
       "Entire home/apt    29080\n",
       "Private room        3401\n",
       "Hotel room            69\n",
       "Shared room           47\n",
       "Name: room_type, dtype: int64"
      ]
     },
     "execution_count": 14,
     "metadata": {},
     "output_type": "execute_result"
    }
   ],
   "source": [
    "df_listing_clean.room_type.value_counts()"
   ]
  },
  {
   "cell_type": "code",
   "execution_count": 15,
   "id": "d8d02d28",
   "metadata": {},
   "outputs": [
    {
     "data": {
      "image/png": "[encoded data removed]",
      "text/plain": [
       "<Figure size 432x288 with 4 Axes>"
      ]
     },
     "metadata": {
      "needs_background": "light"
     },
     "output_type": "display_data"
    }
   ],
   "source": [
    "df_listing_clean.hist();"
   ]
  },
  {
   "cell_type": "markdown",
   "id": "8a37f617",
   "metadata": {},
   "source": [
    "### Filter the data for a big family housing"
   ]
  },
  {
   "cell_type": "markdown",
   "id": "5d0364eb",
   "metadata": {},
   "source": [
    "The conditions for a big family housing in terms of the columns in the dataframe are below:\n",
    "- is equal to or larger than 6 -> 'accommodates' >= 6\n",
    "- requires entire place -> 'room_type' == 'Entire home/apt'\n",
    "- requires three or more bedroooms -> 'bedrooms' >= 3 and 'beds' >= 3"
   ]
  },
  {
   "cell_type": "code",
   "execution_count": 16,
   "id": "949b41da",
   "metadata": {},
   "outputs": [],
   "source": [
    "# filter the conditions above\n",
    "df_listing_clean = df_listing_clean.query('accommodates >= 6 and room_type == \"Entire home/apt\"\\\n",
    "                                           and bedrooms >= 3 and beds >= 3')"
   ]
  },
  {
   "cell_type": "code",
   "execution_count": 17,
   "id": "4635293e",
   "metadata": {},
   "outputs": [
    {
     "name": "stdout",
     "output_type": "stream",
     "text": [
      "<class 'pandas.core.frame.DataFrame'>\n",
      "Int64Index: 4550 entries, 4 to 32589\n",
      "Data columns (total 8 columns):\n",
      " #   Column                        Non-Null Count  Dtype  \n",
      "---  ------                        --------------  -----  \n",
      " 0   listing_id                    4550 non-null   object \n",
      " 1   neighbourhood_cleansed        4550 non-null   object \n",
      " 2   neighbourhood_group_cleansed  4550 non-null   object \n",
      " 3   property_type                 4550 non-null   object \n",
      " 4   room_type                     4550 non-null   object \n",
      " 5   accommodates                  4550 non-null   int64  \n",
      " 6   bedrooms                      4550 non-null   float64\n",
      " 7   beds                          4550 non-null   float64\n",
      "dtypes: float64(2), int64(1), object(5)\n",
      "memory usage: 319.9+ KB\n"
     ]
    }
   ],
   "source": [
    "# assess the dataframe again\n",
    "df_listing_clean.info()"
   ]
  },
  {
   "cell_type": "markdown",
   "id": "bf10972c",
   "metadata": {},
   "source": [
    "In conclusion, there are 4550 listings that met the requirements for a big family housing out of 32597."
   ]
  },
  {
   "cell_type": "markdown",
   "id": "8459edf5",
   "metadata": {},
   "source": [
    "## EDA and data visualization"
   ]
  },
  {
   "cell_type": "code",
   "execution_count": 18,
   "id": "7c1c0120",
   "metadata": {},
   "outputs": [
    {
     "data": {
      "text/plain": [
       "Lahaina                  600\n",
       "North Kona               550\n",
       "South Kohala             498\n",
       "Koloa-Poipu              425\n",
       "North Shore Kauai        419\n",
       "Primary Urban Center     368\n",
       "Kihei-Makena             321\n",
       "Puna                     208\n",
       "Koolauloa                173\n",
       "Koolaupoko               160\n",
       "Ewa                      143\n",
       "North Shore Oahu         123\n",
       "South Hilo                93\n",
       "East Honolulu             89\n",
       "Waianae                   88\n",
       "Kapaa-Wailua              70\n",
       "South Kona                51\n",
       "Kau                       30\n",
       "Paia-Haiku                28\n",
       "North Kohala              26\n",
       "Lihue                     25\n",
       "Central Oahu              13\n",
       "Hamakua                   10\n",
       "North Hilo                 9\n",
       "Wailuku-Kahului            8\n",
       "Waimea-Kekaha              7\n",
       "Hana                       7\n",
       "Makawao-Pukalani-Kula      5\n",
       "Molokai                    2\n",
       "Lanai                      1\n",
       "Name: neighbourhood_cleansed, dtype: int64"
      ]
     },
     "execution_count": 18,
     "metadata": {},
     "output_type": "execute_result"
    }
   ],
   "source": [
    "df_listing_clean.neighbourhood_cleansed.value_counts()"
   ]
  },
  {
   "cell_type": "code",
   "execution_count": 19,
   "id": "90bc19ea",
   "metadata": {},
   "outputs": [
    {
     "data": {
      "image/png": "[encoded data removed]",
      "text/plain": [
       "<Figure size 576x432 with 1 Axes>"
      ]
     },
     "metadata": {
      "needs_background": "light"
     },
     "output_type": "display_data"
    }
   ],
   "source": [
    "# plot of the popular neighborhood for a big-family vacation Airbnb housing\n",
    "base_color = sns.color_palette()[0]\n",
    "freq_order = df_listing_clean['neighbourhood_cleansed'].value_counts().index\n",
    "plt.figure(figsize=(8, 6))\n",
    "sns.countplot(data=df_listing_clean, y='neighbourhood_cleansed', color=base_color, order=freq_order)\n",
    "plt.xticks(rotation=90)\n",
    "plt.xlabel('Number of listings')\n",
    "plt.ylabel('Neighborhood')\n",
    "plt.title('Number of listings per neighborhood')\n",
    "plt.show();"
   ]
  },
  {
   "cell_type": "markdown",
   "id": "005598c2",
   "metadata": {},
   "source": [
    "<a id='Question 2'></a>\n",
    "# Question 2: What are the busiest times of the year to visit the top 10 popular neighborhoods? By how much do prices spike?"
   ]
  },
  {
   "cell_type": "markdown",
   "id": "c2b8d6a9",
   "metadata": {},
   "source": [
    "The 10 popular neighborhoods of Airbnb housing for a big-family vacation were investigated above. I will now study what times are the busiest to visit these places and how much prices spike during that season."
   ]
  },
  {
   "cell_type": "markdown",
   "id": "e56cb6d3",
   "metadata": {},
   "source": [
    "Here, we introduce another dataset file 'calendar.csv' that includes information on date and price. To answer the question, pricing data on different dates will be used. The busiest times will be assumed as the highest-price seasons of the year."
   ]
  },
  {
   "cell_type": "code",
   "execution_count": 20,
   "id": "77a9c23b",
   "metadata": {},
   "outputs": [],
   "source": [
    "# load the data set\n",
    "df_calendar = pd.read_csv('calendar.csv')"
   ]
  },
  {
   "cell_type": "markdown",
   "id": "b55926bb",
   "metadata": {},
   "source": [
    "## Steps:\n",
    "- Match the listing ids to top 10 neighborhoods and merge them into the calendar file \n",
    "- Investigate how the listing prices change with time of the year\n",
    "- Determine the peak season and the price"
   ]
  },
  {
   "cell_type": "markdown",
   "id": "76d291b4",
   "metadata": {},
   "source": [
    "## Data wrangling"
   ]
  },
  {
   "cell_type": "code",
   "execution_count": 21,
   "id": "630fb304",
   "metadata": {},
   "outputs": [
    {
     "data": {
      "text/html": [
       "<div>\n",
       "<style scoped>\n",
       "    .dataframe tbody tr th:only-of-type {\n",
       "        vertical-align: middle;\n",
       "    }\n",
       "\n",
       "    .dataframe tbody tr th {\n",
       "        vertical-align: top;\n",
       "    }\n",
       "\n",
       "    .dataframe thead th {\n",
       "        text-align: right;\n",
       "    }\n",
       "</style>\n",
       "<table border=\"1\" class=\"dataframe\">\n",
       "  <thead>\n",
       "    <tr style=\"text-align: right;\">\n",
       "      <th></th>\n",
       "      <th>listing_id</th>\n",
       "      <th>date</th>\n",
       "      <th>available</th>\n",
       "      <th>price</th>\n",
       "      <th>adjusted_price</th>\n",
       "      <th>minimum_nights</th>\n",
       "      <th>maximum_nights</th>\n",
       "    </tr>\n",
       "  </thead>\n",
       "  <tbody>\n",
       "    <tr>\n",
       "      <th>0</th>\n",
       "      <td>300379</td>\n",
       "      <td>2023-06-11</td>\n",
       "      <td>f</td>\n",
       "      <td>$80.00</td>\n",
       "      <td>$80.00</td>\n",
       "      <td>3.0</td>\n",
       "      <td>28.0</td>\n",
       "    </tr>\n",
       "    <tr>\n",
       "      <th>1</th>\n",
       "      <td>81566</td>\n",
       "      <td>2023-06-11</td>\n",
       "      <td>f</td>\n",
       "      <td>$250.00</td>\n",
       "      <td>$250.00</td>\n",
       "      <td>4.0</td>\n",
       "      <td>1125.0</td>\n",
       "    </tr>\n",
       "    <tr>\n",
       "      <th>2</th>\n",
       "      <td>81566</td>\n",
       "      <td>2023-06-12</td>\n",
       "      <td>f</td>\n",
       "      <td>$250.00</td>\n",
       "      <td>$250.00</td>\n",
       "      <td>4.0</td>\n",
       "      <td>1125.0</td>\n",
       "    </tr>\n",
       "    <tr>\n",
       "      <th>3</th>\n",
       "      <td>81566</td>\n",
       "      <td>2023-06-13</td>\n",
       "      <td>f</td>\n",
       "      <td>$250.00</td>\n",
       "      <td>$250.00</td>\n",
       "      <td>4.0</td>\n",
       "      <td>1125.0</td>\n",
       "    </tr>\n",
       "    <tr>\n",
       "      <th>4</th>\n",
       "      <td>81566</td>\n",
       "      <td>2023-06-14</td>\n",
       "      <td>f</td>\n",
       "      <td>$250.00</td>\n",
       "      <td>$250.00</td>\n",
       "      <td>4.0</td>\n",
       "      <td>1125.0</td>\n",
       "    </tr>\n",
       "  </tbody>\n",
       "</table>\n",
       "</div>"
      ],
      "text/plain": [
       "   listing_id        date available    price adjusted_price  minimum_nights  \\\n",
       "0      300379  2023-06-11         f   $80.00         $80.00             3.0   \n",
       "1       81566  2023-06-11         f  $250.00        $250.00             4.0   \n",
       "2       81566  2023-06-12         f  $250.00        $250.00             4.0   \n",
       "3       81566  2023-06-13         f  $250.00        $250.00             4.0   \n",
       "4       81566  2023-06-14         f  $250.00        $250.00             4.0   \n",
       "\n",
       "   maximum_nights  \n",
       "0            28.0  \n",
       "1          1125.0  \n",
       "2          1125.0  \n",
       "3          1125.0  \n",
       "4          1125.0  "
      ]
     },
     "execution_count": 21,
     "metadata": {},
     "output_type": "execute_result"
    }
   ],
   "source": [
    "df_calendar.head()"
   ]
  },
  {
   "cell_type": "code",
   "execution_count": 22,
   "id": "8a070fb3",
   "metadata": {},
   "outputs": [
    {
     "name": "stdout",
     "output_type": "stream",
     "text": [
      "<class 'pandas.core.frame.DataFrame'>\n",
      "RangeIndex: 11897912 entries, 0 to 11897911\n",
      "Data columns (total 7 columns):\n",
      " #   Column          Dtype  \n",
      "---  ------          -----  \n",
      " 0   listing_id      int64  \n",
      " 1   date            object \n",
      " 2   available       object \n",
      " 3   price           object \n",
      " 4   adjusted_price  object \n",
      " 5   minimum_nights  float64\n",
      " 6   maximum_nights  float64\n",
      "dtypes: float64(2), int64(1), object(4)\n",
      "memory usage: 635.4+ MB\n"
     ]
    }
   ],
   "source": [
    "df_calendar.info()"
   ]
  },
  {
   "cell_type": "markdown",
   "id": "ee4f1037",
   "metadata": {},
   "source": [
    "### Change the data types and add a new column for time (year-month)"
   ]
  },
  {
   "cell_type": "code",
   "execution_count": 23,
   "id": "d9013737",
   "metadata": {},
   "outputs": [],
   "source": [
    "# change the data type of listing_id to integer from object\n",
    "df_listing_clean['listing_id'] = df_listing_clean['listing_id'].astype('int64')"
   ]
  },
  {
   "cell_type": "code",
   "execution_count": 24,
   "id": "ec7d3bf9",
   "metadata": {},
   "outputs": [],
   "source": [
    "# change the data type of price to float from object\n",
    "df_calendar_clean = df_calendar.copy()\n",
    "df_calendar_clean['price'] = df_calendar_clean['price'].str.replace(',','').str.split('$').str[-1].astype('float')"
   ]
  },
  {
   "cell_type": "code",
   "execution_count": 25,
   "id": "2c99cc93",
   "metadata": {},
   "outputs": [],
   "source": [
    "# change the data type of 'date' to datetime from object\n",
    "df_calendar_clean['date'] = pd.to_datetime(df_calendar_clean['date'])"
   ]
  },
  {
   "cell_type": "code",
   "execution_count": 26,
   "id": "b692a345",
   "metadata": {},
   "outputs": [],
   "source": [
    "# add a new column 'year_month' extracted from 'date' column \n",
    "df_calendar_clean['year_month'] = df_calendar_clean.date.dt.to_period('M')"
   ]
  },
  {
   "cell_type": "markdown",
   "id": "dcebc6c9",
   "metadata": {},
   "source": [
    "### Merge the two dataframes"
   ]
  },
  {
   "cell_type": "code",
   "execution_count": 27,
   "id": "71050aeb",
   "metadata": {},
   "outputs": [],
   "source": [
    "# merge the two dataframes\n",
    "df_top_10_calendar = pd.merge(df_listing_clean[['listing_id']], df_calendar_clean, on='listing_id', how='inner').copy()"
   ]
  },
  {
   "cell_type": "code",
   "execution_count": 28,
   "id": "15336005",
   "metadata": {},
   "outputs": [
    {
     "data": {
      "text/plain": [
       "Series([], Name: listing_id, dtype: int64)"
      ]
     },
     "execution_count": 28,
     "metadata": {},
     "output_type": "execute_result"
    }
   ],
   "source": [
    "# check if any listings are missed from the new merged dataframe\n",
    "df_listing_clean[~df_listing_clean['listing_id'].isin(df_top_10_calendar['listing_id'])]['listing_id']"
   ]
  },
  {
   "cell_type": "code",
   "execution_count": 29,
   "id": "1e1b4d3f",
   "metadata": {},
   "outputs": [],
   "source": [
    "# check if # of unique ids is the same as the df_listing_clean\n",
    "assert (df_top_10_calendar['listing_id'].nunique() == df_listing_clean['listing_id'].nunique())"
   ]
  },
  {
   "cell_type": "code",
   "execution_count": 30,
   "id": "e9a60dcb",
   "metadata": {},
   "outputs": [
    {
     "name": "stdout",
     "output_type": "stream",
     "text": [
      "<class 'pandas.core.frame.DataFrame'>\n",
      "Int64Index: 1660752 entries, 0 to 1660751\n",
      "Data columns (total 8 columns):\n",
      " #   Column          Non-Null Count    Dtype         \n",
      "---  ------          --------------    -----         \n",
      " 0   listing_id      1660752 non-null  int64         \n",
      " 1   date            1660752 non-null  datetime64[ns]\n",
      " 2   available       1660752 non-null  object        \n",
      " 3   price           1660752 non-null  float64       \n",
      " 4   adjusted_price  1660752 non-null  object        \n",
      " 5   minimum_nights  1660744 non-null  float64       \n",
      " 6   maximum_nights  1660744 non-null  float64       \n",
      " 7   year_month      1660752 non-null  period[M]     \n",
      "dtypes: datetime64[ns](1), float64(3), int64(1), object(2), period[M](1)\n",
      "memory usage: 114.0+ MB\n"
     ]
    }
   ],
   "source": [
    "df_top_10_calendar.info()"
   ]
  },
  {
   "cell_type": "markdown",
   "id": "75ba85ab",
   "metadata": {},
   "source": [
    "## EDA and data visualization"
   ]
  },
  {
   "cell_type": "code",
   "execution_count": 31,
   "id": "bc2af492",
   "metadata": {},
   "outputs": [
    {
     "data": {
      "image/png": "[encoded data removed]",
      "text/plain": [
       "<Figure size 432x288 with 1 Axes>"
      ]
     },
     "metadata": {
      "needs_background": "light"
     },
     "output_type": "display_data"
    }
   ],
   "source": [
    "# draw a histogram of the price\n",
    "plt.hist(df_top_10_calendar['price'], bins=20);"
   ]
  },
  {
   "cell_type": "markdown",
   "id": "cd926833",
   "metadata": {},
   "source": [
    "As the distribution of the price is right-skewed, we expect the mean would be higher than the median."
   ]
  },
  {
   "cell_type": "code",
   "execution_count": 32,
   "id": "cd5e54b5",
   "metadata": {},
   "outputs": [],
   "source": [
    "# make a dataframe for mean and median prices of each month for top 10 neighborhoods\n",
    "df_top_10_price = pd.DataFrame(df_top_10_calendar.groupby('year_month')['price'].mean()).reset_index()\n",
    "df_top_10_price = df_top_10_price.rename(columns={'price':'mean_price'})\n",
    "df_top_10_price['median_price'] = df_top_10_calendar.groupby('year_month')['price'].median().reset_index()['price']\n",
    "df_top_10_price['std'] = df_top_10_calendar.groupby('year_month')['price'].std().reset_index()['price']"
   ]
  },
  {
   "cell_type": "code",
   "execution_count": 33,
   "id": "1e866909",
   "metadata": {},
   "outputs": [
    {
     "data": {
      "image/png": "[encoded data removed]",
      "text/plain": [
       "<Figure size 720x360 with 1 Axes>"
      ]
     },
     "metadata": {
      "needs_background": "light"
     },
     "output_type": "display_data"
    }
   ],
   "source": [
    "# draw a time series plot for the mean and median prices\n",
    "plt.figure(figsize=[10,5])\n",
    "plt.errorbar(df_top_10_price['year_month'].dt.to_timestamp(), df_top_10_price['mean_price'], label='Mean')\n",
    "plt.errorbar(df_top_10_price['year_month'].dt.to_timestamp(), df_top_10_price['median_price'], label='Median')\n",
    "plt.ylabel('Price ($)')\n",
    "# plt.ylim([500,1500])\n",
    "plt.title('Mean and Median Prices for Seasons')\n",
    "plt.legend(loc='upper left')\n",
    "plt.show();"
   ]
  },
  {
   "cell_type": "code",
   "execution_count": 34,
   "id": "0d5558cf",
   "metadata": {},
   "outputs": [
    {
     "name": "stdout",
     "output_type": "stream",
     "text": [
      "Difference in mean price between maximum and minimum months:  222.37634597660417\n",
      "Difference in median price between maximum and minimum months:  99.0\n"
     ]
    }
   ],
   "source": [
    "# df_top_10_price.loc[[df_top_10_price['mean_price'].idxmax()]]\n",
    "# df_top_10_price.loc[[df_top_10_price['median_price'].idxmax()]]\n",
    "# df_top_10_price.loc[[df_top_10_price['mean_price'].idxmin()]]\n",
    "# df_top_10_price.loc[[df_top_10_price['median_price'].idxmin()]]\n",
    "print('Difference in mean price between maximum and minimum months: ', df_top_10_price['mean_price'].max() - df_top_10_price['mean_price'].min())\n",
    "print('Difference in median price between maximum and minimum months: ', df_top_10_price['median_price'].max() - df_top_10_price['median_price'].min())"
   ]
  },
  {
   "cell_type": "markdown",
   "id": "6b46fd31",
   "metadata": {},
   "source": [
    "As shown in the plot above, the peak season in terms of accommodation for a big family is December. After a peak in December, it is also observed higher prices are retained throughout 2024 than in 2023."
   ]
  }
 ],
 "metadata": {
  "kernelspec": {
   "display_name": "Python 3",
   "language": "python",
   "name": "python3"
  },
  "language_info": {
   "codemirror_mode": {
    "name": "ipython",
    "version": 3
   },
   "file_extension": ".py",
   "mimetype": "text/x-python",
   "name": "python",
   "nbconvert_exporter": "python",
   "pygments_lexer": "ipython3",
   "version": "3.7.11"
  }
 },
 "nbformat": 4,
 "nbformat_minor": 5
}
